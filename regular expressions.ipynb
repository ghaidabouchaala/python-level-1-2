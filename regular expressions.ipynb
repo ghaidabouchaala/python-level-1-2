{
 "cells": [
  {
   "cell_type": "code",
   "execution_count": 11,
   "metadata": {},
   "outputs": [
    {
     "name": "stdout",
     "output_type": "stream",
     "text": [
      "Seraching for pattern \\D+ \n",
      "['this is a string with numbers ', ' and symbol #hashtag']\n"
     ]
    }
   ],
   "source": [
    "import re\n",
    "\n",
    "def multi_re_find(patterns,phrase):\n",
    "    for pat in patterns:\n",
    "        print(\"Seraching for pattern {} \".format(pat))\n",
    "        print(re.findall(pat,phrase))\n",
    "\n",
    "#test_phrase =\"sdsd..sssddd..sdddsddd...dsds...dssssss...sdddd\"\n",
    "#test_phrase =\"aa? gh! li.\"\n",
    "test_phrase =\"this is a string with numbers 12312 and symbol #hashtag\"\n",
    "\n",
    "\n",
    "\n",
    "#test_pattern =['sd*']\n",
    "#test_pattern =['sd+']\n",
    "#test_pattern =['sd{1}']\n",
    "#test_pattern =['sd{1,2}']\n",
    "#test_pattern =['sd{2}']\n",
    "\n",
    "\n",
    "#test_pattern = ['[^!.?]+']\n",
    "#test_pattern =['[a-z]+']\n",
    "\n",
    "\n",
    "#test_pattern =[r'\\d+'] # digits\n",
    "test_pattern =[r'\\D+'] # non digits\n",
    "test_pattern =[r'\\s+'] # with space\n",
    "test_pattern =[r'\\S+'] # \n",
    "\n",
    "#test_pattern =[r'\\w+'] # alpha numerique  => numbers and chars\n",
    "#test_pattern =[r'\\W +'] # non alpha numerique => \n",
    "\n",
    "\n",
    "\n",
    "multi_re_find(test_pattern,test_phrase)"
   ]
  },
  {
   "cell_type": "code",
   "execution_count": null,
   "metadata": {},
   "outputs": [],
   "source": [
    " "
   ]
  }
 ],
 "metadata": {
  "kernelspec": {
   "display_name": "Python 3",
   "language": "python",
   "name": "python3"
  },
  "language_info": {
   "codemirror_mode": {
    "name": "ipython",
    "version": 3
   },
   "file_extension": ".py",
   "mimetype": "text/x-python",
   "name": "python",
   "nbconvert_exporter": "python",
   "pygments_lexer": "ipython3",
   "version": "3.8.3"
  }
 },
 "nbformat": 4,
 "nbformat_minor": 4
}
